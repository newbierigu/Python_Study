{
 "cells": [
  {
   "cell_type": "markdown",
   "id": "9578aef0-920e-45cd-af06-8505b2f46d2f",
   "metadata": {},
   "source": [
    "넘파이, 판다스 라이브러리를 불러온다."
   ]
  },
  {
   "cell_type": "code",
   "execution_count": 1,
   "id": "6c8f0246-ba97-45e3-9fe9-a5e248fb83ed",
   "metadata": {},
   "outputs": [],
   "source": [
    "import numpy as np\n",
    "import pandas as pd"
   ]
  },
  {
   "cell_type": "markdown",
   "id": "b15ce7a0-e3a8-46db-bdbc-00aa75831340",
   "metadata": {},
   "source": [
    "그리고 **pd.DataFrame** 으로 표를 만들 재료들을 넣어준다."
   ]
  },
  {
   "cell_type": "markdown",
   "id": "70a2d5a7-4082-4990-9dbc-29f6e8b2d6dc",
   "metadata": {},
   "source": [
    "df = pd.DataFrame({\\\n",
    "    'category': ['skirt', 'sweater', 'coat', 'jeans'],\\\n",
    "    'quantity': [10, 15, 6, 11],\\                        \n",
    "    'price': [30000, 60000, 95000, 35000]\\\n",
    "})"
   ]
  },
  {
   "cell_type": "markdown",
   "id": "d3a8c397-567e-45fd-9518-9eaf34194e07",
   "metadata": {},
   "source": [
    "이렇게 만들어주면 되지만, 리스트나 Numpy array를 넣을 수도 있다."
   ]
  },
  {
   "cell_type": "markdown",
   "id": "bfa295fb-b92c-46b6-90c7-880b18416437",
   "metadata": {},
   "source": [
    "## 1. 2차원 리스트와 2차원 NumPy array를 가지고 DataFrame을 만들기\n",
    "1. two_dimensional_list라는 2차원 리스트(list of lists)를 가지고 list_df를 만들고\n",
    "2. two_dimensional_array라는 2차원 NumPy array를 가지고 array_df를 만든다."
   ]
  },
  {
   "cell_type": "code",
   "execution_count": 16,
   "id": "3170dede-b4f8-4727-8b37-5b2a9c7aa64c",
   "metadata": {},
   "outputs": [
    {
     "data": {
      "text/html": [
       "<div>\n",
       "<style scoped>\n",
       "    .dataframe tbody tr th:only-of-type {\n",
       "        vertical-align: middle;\n",
       "    }\n",
       "\n",
       "    .dataframe tbody tr th {\n",
       "        vertical-align: top;\n",
       "    }\n",
       "\n",
       "    .dataframe thead th {\n",
       "        text-align: right;\n",
       "    }\n",
       "</style>\n",
       "<table border=\"1\" class=\"dataframe\">\n",
       "  <thead>\n",
       "    <tr style=\"text-align: right;\">\n",
       "      <th></th>\n",
       "      <th>0</th>\n",
       "      <th>1</th>\n",
       "      <th>2</th>\n",
       "    </tr>\n",
       "  </thead>\n",
       "  <tbody>\n",
       "    <tr>\n",
       "      <th>0</th>\n",
       "      <td>skirt</td>\n",
       "      <td>10</td>\n",
       "      <td>30000</td>\n",
       "    </tr>\n",
       "    <tr>\n",
       "      <th>1</th>\n",
       "      <td>sweater</td>\n",
       "      <td>15</td>\n",
       "      <td>60000</td>\n",
       "    </tr>\n",
       "    <tr>\n",
       "      <th>2</th>\n",
       "      <td>coat</td>\n",
       "      <td>6</td>\n",
       "      <td>95000</td>\n",
       "    </tr>\n",
       "    <tr>\n",
       "      <th>3</th>\n",
       "      <td>jeans</td>\n",
       "      <td>11</td>\n",
       "      <td>35000</td>\n",
       "    </tr>\n",
       "  </tbody>\n",
       "</table>\n",
       "</div>"
      ],
      "text/plain": [
       "         0   1      2\n",
       "0    skirt  10  30000\n",
       "1  sweater  15  60000\n",
       "2     coat   6  95000\n",
       "3    jeans  11  35000"
      ]
     },
     "execution_count": 16,
     "metadata": {},
     "output_type": "execute_result"
    }
   ],
   "source": [
    "# 1\n",
    "two_dimensional_list = [\n",
    "    ['skirt', 10, 30000],\n",
    "    ['sweater', 15, 60000],\n",
    "    ['coat', 6, 95000],\n",
    "    ['jeans', 11, 35000]\n",
    "]\n",
    "\n",
    "# 2\n",
    "two_dimensional_array = np.array(two_dimensional_list)\n",
    "\n",
    "# 1 \n",
    "list_df = pd.DataFrame(two_dimensional_list)\n",
    "\n",
    "# 2\n",
    "array_df = pd.DataFrame(two_dimensional_array)\n",
    "\n",
    "list_df"
   ]
  },
  {
   "cell_type": "markdown",
   "id": "4478daac-ada1-4c3b-b649-2c2d2f26068f",
   "metadata": {},
   "source": [
    "이렇게 만든 **list_df**와 **array_df**를 출력해 보면, 둘 다 위와 같은 결과물이 나온다."
   ]
  },
  {
   "cell_type": "markdown",
   "id": "f649f1b7-ba7f-4418-aa58-11a331d23ecd",
   "metadata": {},
   "source": [
    "지금 보면 columns들의 이름이 0, 1, 2로 되어 있어서 뭐가 뭔지 알아보기 힘들다.\\\n",
    "해당 값을 변경해보자.\n",
    "DataFrame을 만들 때 columns라는 옵션을 사용해서 컬럼명을 설정하는 것도 가능하다.\\\n",
    "**변수 명 = pd.DataFrame(데이터 출처, columns= ['0번 이름', '1번 이름', '2번 이름']** 으로 설정이 가능하다."
   ]
  },
  {
   "cell_type": "code",
   "execution_count": 17,
   "id": "fdd7351c-7dc5-41c6-88bf-e9b967ff811f",
   "metadata": {},
   "outputs": [
    {
     "data": {
      "text/html": [
       "<div>\n",
       "<style scoped>\n",
       "    .dataframe tbody tr th:only-of-type {\n",
       "        vertical-align: middle;\n",
       "    }\n",
       "\n",
       "    .dataframe tbody tr th {\n",
       "        vertical-align: top;\n",
       "    }\n",
       "\n",
       "    .dataframe thead th {\n",
       "        text-align: right;\n",
       "    }\n",
       "</style>\n",
       "<table border=\"1\" class=\"dataframe\">\n",
       "  <thead>\n",
       "    <tr style=\"text-align: right;\">\n",
       "      <th></th>\n",
       "      <th>category</th>\n",
       "      <th>quantity</th>\n",
       "      <th>price</th>\n",
       "    </tr>\n",
       "  </thead>\n",
       "  <tbody>\n",
       "    <tr>\n",
       "      <th>0</th>\n",
       "      <td>skirt</td>\n",
       "      <td>10</td>\n",
       "      <td>30000</td>\n",
       "    </tr>\n",
       "    <tr>\n",
       "      <th>1</th>\n",
       "      <td>sweater</td>\n",
       "      <td>15</td>\n",
       "      <td>60000</td>\n",
       "    </tr>\n",
       "    <tr>\n",
       "      <th>2</th>\n",
       "      <td>coat</td>\n",
       "      <td>6</td>\n",
       "      <td>95000</td>\n",
       "    </tr>\n",
       "    <tr>\n",
       "      <th>3</th>\n",
       "      <td>jeans</td>\n",
       "      <td>11</td>\n",
       "      <td>35000</td>\n",
       "    </tr>\n",
       "  </tbody>\n",
       "</table>\n",
       "</div>"
      ],
      "text/plain": [
       "  category quantity  price\n",
       "0    skirt       10  30000\n",
       "1  sweater       15  60000\n",
       "2     coat        6  95000\n",
       "3    jeans       11  35000"
      ]
     },
     "execution_count": 17,
     "metadata": {},
     "output_type": "execute_result"
    }
   ],
   "source": [
    "list_df = pd.DataFrame(two_dimensional_list, columns=['category', 'quantity', 'price'])\n",
    "array_df = pd.DataFrame(two_dimensional_array, columns=['category', 'quantity', 'price'])\n",
    "array_df"
   ]
  },
  {
   "cell_type": "markdown",
   "id": "ff113fd6-515f-474f-8e82-7b695400ffe4",
   "metadata": {},
   "source": [
    "## 2. 딕셔너리가 담겨 있는 리스트로 DataFrame을 만들기\n",
    "\n",
    "dict_list라는 리스트를 가지고 dict_list_df이라는 DataFrame을 만들었다.\n",
    "해당 항목에다가  : 순서대로 쌓는다고 생각하자\\\n",
    "{columns 이름1 : 이름1에 속한 데이터 정보, columns 이름2 : 이름2에 속한 데이터 정보, columns 이름3 : 이름3에 속한 데이터 정보}\\\n",
    "{columns 이름1 : 이름1에 속한 데이터 정보, columns 이름2 : 이름2에 속한 데이터 정보, columns 이름3 : 이름3에 속한 데이터 정보}\\\n",
    "{columns 이름1 : 이름1에 속한 데이터 정보, columns 이름2 : 이름2에 속한 데이터 정보, columns 이름3 : 이름3에 속한 데이터 정보}"
   ]
  },
  {
   "cell_type": "code",
   "execution_count": 19,
   "id": "a609f0f0-4b71-496f-990e-9136a517a642",
   "metadata": {},
   "outputs": [
    {
     "data": {
      "text/html": [
       "<div>\n",
       "<style scoped>\n",
       "    .dataframe tbody tr th:only-of-type {\n",
       "        vertical-align: middle;\n",
       "    }\n",
       "\n",
       "    .dataframe tbody tr th {\n",
       "        vertical-align: top;\n",
       "    }\n",
       "\n",
       "    .dataframe thead th {\n",
       "        text-align: right;\n",
       "    }\n",
       "</style>\n",
       "<table border=\"1\" class=\"dataframe\">\n",
       "  <thead>\n",
       "    <tr style=\"text-align: right;\">\n",
       "      <th></th>\n",
       "      <th>category</th>\n",
       "      <th>quantity</th>\n",
       "      <th>price</th>\n",
       "    </tr>\n",
       "  </thead>\n",
       "  <tbody>\n",
       "    <tr>\n",
       "      <th>0</th>\n",
       "      <td>skirt</td>\n",
       "      <td>10</td>\n",
       "      <td>30000</td>\n",
       "    </tr>\n",
       "    <tr>\n",
       "      <th>1</th>\n",
       "      <td>sweater</td>\n",
       "      <td>15</td>\n",
       "      <td>60000</td>\n",
       "    </tr>\n",
       "    <tr>\n",
       "      <th>2</th>\n",
       "      <td>coat</td>\n",
       "      <td>6</td>\n",
       "      <td>95000</td>\n",
       "    </tr>\n",
       "    <tr>\n",
       "      <th>3</th>\n",
       "      <td>jeans</td>\n",
       "      <td>11</td>\n",
       "      <td>35000</td>\n",
       "    </tr>\n",
       "  </tbody>\n",
       "</table>\n",
       "</div>"
      ],
      "text/plain": [
       "  category  quantity  price\n",
       "0    skirt        10  30000\n",
       "1  sweater        15  60000\n",
       "2     coat         6  95000\n",
       "3    jeans        11  35000"
      ]
     },
     "execution_count": 19,
     "metadata": {},
     "output_type": "execute_result"
    }
   ],
   "source": [
    "dict_list = [\n",
    "    {'category': 'skirt', 'quantity': 10, 'price': 30000},\n",
    "    {'category': 'sweater', 'quantity': 15, 'price': 60000},\n",
    "    {'category': 'coat', 'quantity': 6, 'price': 95000},\n",
    "    {'category': 'jeans', 'quantity': 11, 'price': 35000}\n",
    "]\n",
    "\n",
    "dict_list_df = pd.DataFrame(dict_list)\n",
    "dict_list_df"
   ]
  }
 ],
 "metadata": {
  "kernelspec": {
   "display_name": "Python 3 (ipykernel)",
   "language": "python",
   "name": "python3"
  },
  "language_info": {
   "codemirror_mode": {
    "name": "ipython",
    "version": 3
   },
   "file_extension": ".py",
   "mimetype": "text/x-python",
   "name": "python",
   "nbconvert_exporter": "python",
   "pygments_lexer": "ipython3",
   "version": "3.12.7"
  }
 },
 "nbformat": 4,
 "nbformat_minor": 5
}
