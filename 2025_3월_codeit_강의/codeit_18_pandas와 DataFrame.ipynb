{
 "cells": [
  {
   "cell_type": "markdown",
   "id": "f8611b52-49f5-4818-b2f1-2a4ac65215f8",
   "metadata": {},
   "source": [
    "### 데이터 분석을 하다보면 대부분 표 형태로 있는 데이터를 다뤄야 할 때가 많다.\n",
    "이런 표를 numpy array로 표현하기에는 한계가 있다.\n",
    "\n",
    "### Numpy array 단점\n",
    "1. 가독성이 떨어진다.\\\n",
    "   Ex :\\\n",
    "   array([['skirt', 'sweater', 'coat', 'jeans']\\\n",
    "          ['10', '15', '6', '11']\\\n",
    "          ['30000', '60000', '95000', '35000']], dtype='<U21')\n",
    "여기서 dtype'<U21' 이 의미하는 것은 numpy array에 최대 21자 이내의 문자열을 담을 수 있다는 뜻\n",
    "\n",
    "\n",
    "문자 값도 있고 숫자 값도 있는데 **numpy array 에는 한 가지 데이터 타입만 넣을 수 있어서 전부 문자열로 담긴다.**\n",
    "\n",
    "2. 위에서 보았듯이 정보에 대한 레이블 삽입도 불가하고,\n",
    "\n",
    "3. 한 가지 데이터 타입만 사용 가능하다."
   ]
  },
  {
   "cell_type": "markdown",
   "id": "f0d366d6-2139-4e5d-a94c-f251fee055c1",
   "metadata": {},
   "source": [
    "## pandas의 장점\n",
    "1. **다양한 형태의 데이터를 불러올 수 있음**\n",
    "2. 불러온 **데이터를 가공하고,**\n",
    "3. **데이터 분석하고,**\n",
    "4. **데이터를 시각화 한다.**"
   ]
  },
  {
   "cell_type": "markdown",
   "id": "08909d66-a3bf-49c6-ab9c-d861e84e3c24",
   "metadata": {},
   "source": [
    "### Numpy = 복잡한 수학 연산으로 데이터를 분석할 때 사용\n",
    "\n",
    "### pandas = 표 형태의 데이터를 간편하게 다루고 싶을 때 사용"
   ]
  },
  {
   "cell_type": "code",
   "execution_count": 2,
   "id": "c8c68329-8918-4e8b-9d76-b30a8fc10fc6",
   "metadata": {},
   "outputs": [],
   "source": [
    "import pandas as pd # pandas에서는 DataFrame이라는 자료형을 주로 사용한다. DataFrame을 사용하면 표 형식의 데이터를 다룰 수 있게 해줌"
   ]
  },
  {
   "cell_type": "code",
   "execution_count": 5,
   "id": "78d7eabc-70f2-45bb-87df-c5997132296d",
   "metadata": {},
   "outputs": [
    {
     "data": {
      "text/html": [
       "<div>\n",
       "<style scoped>\n",
       "    .dataframe tbody tr th:only-of-type {\n",
       "        vertical-align: middle;\n",
       "    }\n",
       "\n",
       "    .dataframe tbody tr th {\n",
       "        vertical-align: top;\n",
       "    }\n",
       "\n",
       "    .dataframe thead th {\n",
       "        text-align: right;\n",
       "    }\n",
       "</style>\n",
       "<table border=\"1\" class=\"dataframe\">\n",
       "  <thead>\n",
       "    <tr style=\"text-align: right;\">\n",
       "      <th></th>\n",
       "      <th>category</th>\n",
       "      <th>quantity</th>\n",
       "      <th>price</th>\n",
       "    </tr>\n",
       "  </thead>\n",
       "  <tbody>\n",
       "    <tr>\n",
       "      <th>0</th>\n",
       "      <td>skirt</td>\n",
       "      <td>10</td>\n",
       "      <td>30000</td>\n",
       "    </tr>\n",
       "    <tr>\n",
       "      <th>1</th>\n",
       "      <td>sweater</td>\n",
       "      <td>15</td>\n",
       "      <td>60000</td>\n",
       "    </tr>\n",
       "    <tr>\n",
       "      <th>2</th>\n",
       "      <td>coat</td>\n",
       "      <td>6</td>\n",
       "      <td>95000</td>\n",
       "    </tr>\n",
       "    <tr>\n",
       "      <th>3</th>\n",
       "      <td>jeans</td>\n",
       "      <td>11</td>\n",
       "      <td>35000</td>\n",
       "    </tr>\n",
       "  </tbody>\n",
       "</table>\n",
       "</div>"
      ],
      "text/plain": [
       "  category  quantity  price\n",
       "0    skirt        10  30000\n",
       "1  sweater        15  60000\n",
       "2     coat         6  95000\n",
       "3    jeans        11  35000"
      ]
     },
     "execution_count": 5,
     "metadata": {},
     "output_type": "execute_result"
    }
   ],
   "source": [
    "df = pd.DataFrame({\n",
    "    'category': ['skirt', 'sweater', 'coat', 'jeans'],\n",
    "    'quantity': [10, 15, 6, 11],                                     \n",
    "    'price': [30000, 60000, 95000, 35000]\n",
    "})\n",
    "# pd.DataFrame을 사용하여 ({'항목의 이름1' : ['항목 종류 1', '항목 종류 2'...], '항목의 이름2' : [...],...}) 이렇게 사용한다.\n",
    "df"
   ]
  },
  {
   "cell_type": "markdown",
   "id": "a4f29a0d-2e2b-4918-a921-4f161d341603",
   "metadata": {},
   "source": [
    "이제 이 데이터 프레임의 구조에 대해서 알아보자.\\\n",
    "데이터 프레임에서 가로 줄 하나하나를 **row**라고 한다. (행 이라고 함)\\\n",
    "세로 줄은 **column** 이라 한다. (열 이라고 함)\n",
    "위 데이터 프레임에는 4개의 rows와 3개의 columns 가 있다.\n",
    "\n",
    "가장 윗 줄에 있는 'category', 'quantity', 'price' 는 각 columns 의 이름이다. DataFrame을 사용하면 각 Columns의 이름을 붙여줄 수 있다.\\\n",
    "왼쪽 열의 0, 1, 2, 3은 index라고 부르고 rows의 이름이라고 생각하면 됨\n",
    "\n",
    "중요한 개념은 **대부분의 numpy 개념들이 pandas에서도 비슷하게 적용이 가능하다.**"
   ]
  },
  {
   "cell_type": "code",
   "execution_count": 16,
   "id": "c7948614-b2dc-419f-b3a9-478130bd0b71",
   "metadata": {},
   "outputs": [
    {
     "data": {
      "text/plain": [
       "0    10\n",
       "1    15\n",
       "2     6\n",
       "3    11\n",
       "Name: quantity, dtype: int64"
      ]
     },
     "execution_count": 16,
     "metadata": {},
     "output_type": "execute_result"
    }
   ],
   "source": [
    "df['quantity'] # 'quantity'의 값들만 가져오기"
   ]
  },
  {
   "cell_type": "markdown",
   "id": "02565acc-e1e3-440d-bee7-e9c9fa68cf0b",
   "metadata": {},
   "source": [
    "왼쪽 열은 index 오른쪽은 quantity column 내 데이터들이고\\\n",
    "밑 줄은 불러온 columns의 이름과 해당 column의 데이터 타입이다.\\\n",
    "그런데 df['quantity'] 의 데이터 타입을 확인해보면,"
   ]
  },
  {
   "cell_type": "code",
   "execution_count": 7,
   "id": "01c102ab-1f5c-4a95-b608-ccdd28ae7feb",
   "metadata": {},
   "outputs": [
    {
     "data": {
      "text/plain": [
       "pandas.core.series.Series"
      ]
     },
     "execution_count": 7,
     "metadata": {},
     "output_type": "execute_result"
    }
   ],
   "source": [
    "type(df['quantity'])"
   ]
  },
  {
   "cell_type": "markdown",
   "id": "ab17341e-02e7-46cf-87d6-ee973f4b2d74",
   "metadata": {},
   "source": [
    "pandas 데이터 프레임에서 하나를 때 오면 그 때온 값은 DataFrame타입이 아니라\\\n",
    "**pandas series 타입이 된다.**"
   ]
  },
  {
   "cell_type": "markdown",
   "id": "36b30f3c-7a20-4a83-99bb-6df580d5c498",
   "metadata": {},
   "source": [
    "위 개념으로 알 수 있는 사실\\\n",
    "DataFrame = 2차원으로 데이터를 다룬다.\\\n",
    "Series = 1차원으로 데이터를 다룬다.\n",
    "\n",
    "DataFrame = 여러개의 Series로 구성되어 있다."
   ]
  },
  {
   "cell_type": "markdown",
   "id": "712588d5-5b96-43e3-8673-5aa04480b75b",
   "metadata": {},
   "source": [
    "### 만약 df['qauntity']의 평균을 구하고 싶다면,"
   ]
  },
  {
   "cell_type": "code",
   "execution_count": 9,
   "id": "8ef78e67-e080-4e2d-8076-9aeaa2970699",
   "metadata": {},
   "outputs": [
    {
     "data": {
      "text/plain": [
       "10.5"
      ]
     },
     "execution_count": 9,
     "metadata": {},
     "output_type": "execute_result"
    }
   ],
   "source": [
    "df['quantity'].mean() # .mean() numpy개념 처럼 사용 가능"
   ]
  },
  {
   "cell_type": "code",
   "execution_count": 10,
   "id": "ea82b49b-25e2-4085-90f6-6d6b4bc0d6f5",
   "metadata": {},
   "outputs": [
    {
     "data": {
      "text/plain": [
       "42"
      ]
     },
     "execution_count": 10,
     "metadata": {},
     "output_type": "execute_result"
    }
   ],
   "source": [
    "df['quantity'].sum()"
   ]
  },
  {
   "cell_type": "code",
   "execution_count": 11,
   "id": "fa766ed6-2e7d-4f29-abfe-63ac9b2a9617",
   "metadata": {},
   "outputs": [
    {
     "data": {
      "text/plain": [
       "6"
      ]
     },
     "execution_count": 11,
     "metadata": {},
     "output_type": "execute_result"
    }
   ],
   "source": [
    "df['quantity'].min()"
   ]
  },
  {
   "cell_type": "code",
   "execution_count": 15,
   "id": "7b923f1b-c021-453f-96cc-a0bd177730f0",
   "metadata": {},
   "outputs": [
    {
     "data": {
      "text/plain": [
       "0    300000\n",
       "1    900000\n",
       "2    570000\n",
       "3    385000\n",
       "dtype: int64"
      ]
     },
     "execution_count": 15,
     "metadata": {},
     "output_type": "execute_result"
    }
   ],
   "source": [
    "# 항목 별 총 판매 량 계산\n",
    "df['quantity'] * df['price'] # numpy개념 처럼 사용 인덱스 값 끼리 계산되어 새로운 Series가 만들어 진다."
   ]
  }
 ],
 "metadata": {
  "kernelspec": {
   "display_name": "Python 3 (ipykernel)",
   "language": "python",
   "name": "python3"
  },
  "language_info": {
   "codemirror_mode": {
    "name": "ipython",
    "version": 3
   },
   "file_extension": ".py",
   "mimetype": "text/x-python",
   "name": "python",
   "nbconvert_exporter": "python",
   "pygments_lexer": "ipython3",
   "version": "3.12.7"
  }
 },
 "nbformat": 4,
 "nbformat_minor": 5
}
