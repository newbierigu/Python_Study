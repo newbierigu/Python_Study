{
 "cells": [
  {
   "cell_type": "markdown",
   "id": "d7a20bbf-73da-4738-8b95-f5422ef038bd",
   "metadata": {},
   "source": [
    "# 실습 설명\n",
    "\n",
    "1부터 100까지 숫자가 들어 있는 numbers_array에서 짝수에 해당하는 숫자들만 뽑아 보세요!"
   ]
  },
  {
   "cell_type": "markdown",
   "id": "47a0ec76-66aa-4d10-a239-739e600de487",
   "metadata": {},
   "source": [
    "# 실습 결과\n",
    "\n",
    "array([  2,   4,   6,   8,  10,  12,  14,  16,  18,  20,  22,  24,  26,\\\n",
    "        28,  30,  32,  34,  36,  38,  40,  42,  44,  46,  48,  50,  52,\\\n",
    "        54,  56,  58,  60,  62,  64,  66,  68,  70,  72,  74,  76,  78,\\\n",
    "        80,  82,  84,  86,  88,  90,  92,  94,  96,  98, 100])"
   ]
  },
  {
   "cell_type": "markdown",
   "id": "8bf92c90-4425-448c-968f-2c18c94b79fd",
   "metadata": {},
   "source": [
    "## 정답 코드"
   ]
  },
  {
   "cell_type": "code",
   "execution_count": 1,
   "id": "8f572668-2c75-4c0e-8067-ecbec3afd602",
   "metadata": {},
   "outputs": [],
   "source": [
    "import numpy as np"
   ]
  },
  {
   "cell_type": "code",
   "execution_count": 2,
   "id": "0fe9ec5a-2899-42d1-bd0e-0353e8437f12",
   "metadata": {},
   "outputs": [],
   "source": [
    "numbers_array = np.arange(1, 101)"
   ]
  },
  {
   "cell_type": "code",
   "execution_count": 3,
   "id": "3464c5e3-736d-47ce-9a66-ed14f22c23b3",
   "metadata": {},
   "outputs": [
    {
     "data": {
      "text/plain": [
       "array([  2,   4,   6,   8,  10,  12,  14,  16,  18,  20,  22,  24,  26,\n",
       "        28,  30,  32,  34,  36,  38,  40,  42,  44,  46,  48,  50,  52,\n",
       "        54,  56,  58,  60,  62,  64,  66,  68,  70,  72,  74,  76,  78,\n",
       "        80,  82,  84,  86,  88,  90,  92,  94,  96,  98, 100])"
      ]
     },
     "execution_count": 3,
     "metadata": {},
     "output_type": "execute_result"
    }
   ],
   "source": [
    "mask = numbers_array % 2 == 0\n",
    "numbers_array[mask]"
   ]
  },
  {
   "cell_type": "code",
   "execution_count": null,
   "id": "be6fbc54-9724-4a7d-99a7-7a2a9fcef68f",
   "metadata": {},
   "outputs": [],
   "source": []
  }
 ],
 "metadata": {
  "kernelspec": {
   "display_name": "Python 3 (ipykernel)",
   "language": "python",
   "name": "python3"
  },
  "language_info": {
   "codemirror_mode": {
    "name": "ipython",
    "version": 3
   },
   "file_extension": ".py",
   "mimetype": "text/x-python",
   "name": "python",
   "nbconvert_exporter": "python",
   "pygments_lexer": "ipython3",
   "version": "3.12.7"
  }
 },
 "nbformat": 4,
 "nbformat_minor": 5
}
