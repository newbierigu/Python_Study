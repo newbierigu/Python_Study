{
 "cells": [
  {
   "cell_type": "code",
   "execution_count": 1,
   "id": "7f0af9d7-69d9-468b-a1ef-d80dda9b1376",
   "metadata": {},
   "outputs": [],
   "source": [
    "import numpy as np # numpy를 가져온다. np라고 호출해도 가져온다."
   ]
  },
  {
   "cell_type": "code",
   "execution_count": 2,
   "id": "cc1f6383-c64c-424f-bc17-1ab0698ecf32",
   "metadata": {},
   "outputs": [
    {
     "data": {
      "text/plain": [
       "array([1, 3, 5, 6, 7, 9])"
      ]
     },
     "execution_count": 2,
     "metadata": {},
     "output_type": "execute_result"
    }
   ],
   "source": [
    "array1 = np.array([1, 3, 5, 6, 7, 9])\n",
    "array1"
   ]
  },
  {
   "cell_type": "code",
   "execution_count": 3,
   "id": "43326f24-fa50-4bf2-831f-54db4a66c802",
   "metadata": {},
   "outputs": [
    {
     "data": {
      "text/plain": [
       "array([0., 0., 0., 0., 0.])"
      ]
     },
     "execution_count": 3,
     "metadata": {},
     "output_type": "execute_result"
    }
   ],
   "source": [
    "np.zeros(5) # 0이 5개 들어간 리스트를 만들어라."
   ]
  },
  {
   "cell_type": "code",
   "execution_count": 4,
   "id": "bc43747f-590a-4ed1-858e-70460ff20d5e",
   "metadata": {},
   "outputs": [
    {
     "data": {
      "text/plain": [
       "array([0, 1, 2, 3, 4, 5, 6, 7, 8, 9])"
      ]
     },
     "execution_count": 4,
     "metadata": {},
     "output_type": "execute_result"
    }
   ],
   "source": [
    "np.arange(10) # 0 ~ 9까지의 범위에 속한 수로 리스트를 만들어라.(python for문 range랑 개념이 똑같음)"
   ]
  },
  {
   "cell_type": "code",
   "execution_count": 5,
   "id": "07065d41-209b-43f6-9b52-5019d0d127a5",
   "metadata": {},
   "outputs": [
    {
     "data": {
      "text/plain": [
       "array([2, 3, 4, 5, 6, 7, 8, 9])"
      ]
     },
     "execution_count": 5,
     "metadata": {},
     "output_type": "execute_result"
    }
   ],
   "source": [
    "np.arange(2, 10) # 2 ~ 9까지의 범위에 속한 수로 리스트를 만들어라.(python for문 range랑 개념이 똑같음)"
   ]
  },
  {
   "cell_type": "code",
   "execution_count": 6,
   "id": "68d847fc-cf7f-4e60-8317-06520b3d1c14",
   "metadata": {},
   "outputs": [
    {
     "data": {
      "text/plain": [
       "array([ 4,  7, 10, 13, 16])"
      ]
     },
     "execution_count": 6,
     "metadata": {},
     "output_type": "execute_result"
    }
   ],
   "source": [
    "np.arange(4, 17, 3) # 4 부터 세 칸 간격으로 17까지 의 수를 리스트로 만들어라.(python for문 range랑 개념이 똑같음)"
   ]
  },
  {
   "cell_type": "code",
   "execution_count": 7,
   "id": "6d925ad7-51ae-440f-b498-3a700cf94425",
   "metadata": {},
   "outputs": [
    {
     "data": {
      "text/plain": [
       "numpy.ndarray"
      ]
     },
     "execution_count": 7,
     "metadata": {},
     "output_type": "execute_result"
    }
   ],
   "source": [
    "type(array1) # array1 의 타입"
   ]
  },
  {
   "cell_type": "code",
   "execution_count": 8,
   "id": "9f8ff804-6df6-42c7-86ae-351a74bc3bb8",
   "metadata": {},
   "outputs": [],
   "source": [
    "# ndarray = n차원 배열 >>배열이 1차원 일 수도 2 차원일 수도 있다는 뜻"
   ]
  },
  {
   "cell_type": "code",
   "execution_count": 9,
   "id": "74af9f7c-30fb-454c-ac87-f6d8afab913c",
   "metadata": {},
   "outputs": [
    {
     "data": {
      "text/plain": [
       "array([[ 1,  2,  3,  4],\n",
       "       [ 5,  6,  7,  8],\n",
       "       [ 9, 10, 11, 12]])"
      ]
     },
     "execution_count": 9,
     "metadata": {},
     "output_type": "execute_result"
    }
   ],
   "source": [
    "array2 = np.array([[1, 2, 3, 4,], [5, 6, 7, 8], [9, 10, 11, 12]]) # 리스트 내 리스트 (2차원 배열)\n",
    "array2"
   ]
  },
  {
   "cell_type": "code",
   "execution_count": 10,
   "id": "eea21fd6-a3f6-48fb-ac04-67aa5c1a535d",
   "metadata": {},
   "outputs": [],
   "source": [
    "# 위 표를 3 * 4 표라고도 볼 수 있다. 앞으로 주로 사용하게될 데이터들은 이렇게 표 모양으로 되어있는 경우가 많기 때문에\n",
    "# 데이터 사이언스를 할 때 2차원 array를 많이 사용"
   ]
  },
  {
   "cell_type": "code",
   "execution_count": 11,
   "id": "37e50e91-25cf-4064-8156-de2b04d3d14b",
   "metadata": {},
   "outputs": [
    {
     "data": {
      "text/plain": [
       "6"
      ]
     },
     "execution_count": 11,
     "metadata": {},
     "output_type": "execute_result"
    }
   ],
   "source": [
    "array1.size # array1에 몇 개의 요소가 있는지 알아보는 명령어 .size"
   ]
  },
  {
   "cell_type": "code",
   "execution_count": 12,
   "id": "2cb6f355-e573-41d3-9c3f-d897184fd269",
   "metadata": {},
   "outputs": [
    {
     "data": {
      "text/plain": [
       "12"
      ]
     },
     "execution_count": 12,
     "metadata": {},
     "output_type": "execute_result"
    }
   ],
   "source": [
    "array2.size # array2에 몇 개의 요소가 있는지 알아보는 명령어 .size"
   ]
  },
  {
   "cell_type": "code",
   "execution_count": 13,
   "id": "02cdbaf3-b78c-4f96-97a1-9401e112060e",
   "metadata": {},
   "outputs": [],
   "source": [
    "# .size 는 1차원 array든 2차원 array든 안에 있는 값들의 총 개수를 알려줌"
   ]
  },
  {
   "cell_type": "code",
   "execution_count": 14,
   "id": "1ff6b7f9-1314-4909-a6f0-8ad242320035",
   "metadata": {},
   "outputs": [
    {
     "data": {
      "text/plain": [
       "(3, 4)"
      ]
     },
     "execution_count": 14,
     "metadata": {},
     "output_type": "execute_result"
    }
   ],
   "source": [
    "array2.shape # array2의 모양 (표 기준으로)"
   ]
  },
  {
   "cell_type": "code",
   "execution_count": 15,
   "id": "a350e205-666f-4211-a7e4-4ad3b8b7a393",
   "metadata": {},
   "outputs": [],
   "source": [
    "# array값들의 개수를 알고싶으면 .size를 사용하고\n",
    "# array의 모습을 알고싶다면, .shape을 사용하면 된다."
   ]
  },
  {
   "cell_type": "code",
   "execution_count": 16,
   "id": "dd850d09-53e3-42aa-aaae-16a88899098b",
   "metadata": {},
   "outputs": [
    {
     "data": {
      "text/plain": [
       "(6,)"
      ]
     },
     "execution_count": 16,
     "metadata": {},
     "output_type": "execute_result"
    }
   ],
   "source": [
    "array1.shape"
   ]
  },
  {
   "cell_type": "code",
   "execution_count": 17,
   "id": "484e5cef-0aed-40c1-b9dd-93996eb60d5b",
   "metadata": {},
   "outputs": [],
   "source": [
    "# shape 결과 => (칸 개수, 줄 개수)"
   ]
  }
 ],
 "metadata": {
  "kernelspec": {
   "display_name": "Python 3 (ipykernel)",
   "language": "python",
   "name": "python3"
  },
  "language_info": {
   "codemirror_mode": {
    "name": "ipython",
    "version": 3
   },
   "file_extension": ".py",
   "mimetype": "text/x-python",
   "name": "python",
   "nbconvert_exporter": "python",
   "pygments_lexer": "ipython3",
   "version": "3.12.7"
  }
 },
 "nbformat": 4,
 "nbformat_minor": 5
}
