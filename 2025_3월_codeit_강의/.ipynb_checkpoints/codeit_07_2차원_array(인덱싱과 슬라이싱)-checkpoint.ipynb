{
 "cells": [
  {
   "cell_type": "markdown",
   "id": "88a9d94e-c665-43a8-83af-30a2f7fa1744",
   "metadata": {},
   "source": [
    "2차원 array를 사용해보자"
   ]
  },
  {
   "cell_type": "code",
   "execution_count": 1,
   "id": "7f3b927c-6ce0-4516-919d-d38d60b4ea3e",
   "metadata": {},
   "outputs": [],
   "source": [
    "import numpy as np"
   ]
  },
  {
   "cell_type": "code",
   "execution_count": 2,
   "id": "9d418f92-f337-4b95-ac79-16ca5a7f79c0",
   "metadata": {},
   "outputs": [
    {
     "data": {
      "text/plain": [
       "array([[12257, 11561, 13165, 14673, 16496, 19403],\n",
       "       [39169, 34406, 32821, 35387, 38299, 37813],\n",
       "       [  959,  1053,  1149,  1289,  1509,  1753],\n",
       "       [36335, 37133, 38023, 39496, 41713, 44115]])"
      ]
     },
     "execution_count": 2,
     "metadata": {},
     "output_type": "execute_result"
    }
   ],
   "source": [
    "gdp_array = np.array([\n",
    "    [12257, 11561, 13165, 14673, 16496, 19403], # 대한민국   2000 ~ 2005 총 6년간의 데이터\n",
    "    [39169, 34406, 32821, 35387, 38299, 37813], # 일본\n",
    "    [959, 1053, 1149, 1289, 1509, 1753],        # 중국\n",
    "    [36335, 37133, 38023, 39496, 41713, 44115]  # 미국\n",
    "])\n",
    "gdp_array"
   ]
  },
  {
   "cell_type": "markdown",
   "id": "da57b838-263f-4c49-9a9e-3e2b90903f7a",
   "metadata": {},
   "source": [
    "직사각형 형태 2차원 array이다.\\\n",
    "4개의 열이 있고 6개의 행이 있는데\\\n",
    "이것을 **4개의 low** **6개의 column** 이라고 한다.\\\n",
    "4 by 6 2차원 array 라고도 한다."
   ]
  },
  {
   "cell_type": "markdown",
   "id": "09b43e4d-09ed-49db-9586-a6b81245a446",
   "metadata": {},
   "source": [
    "위 array 에서 **일본의 gdp**를 받아와보자."
   ]
  },
  {
   "cell_type": "code",
   "execution_count": 3,
   "id": "503646f0-9d4f-4278-8d0f-4640baa10129",
   "metadata": {},
   "outputs": [
    {
     "data": {
      "text/plain": [
       "array([39169, 34406, 32821, 35387, 38299, 37813])"
      ]
     },
     "execution_count": 3,
     "metadata": {},
     "output_type": "execute_result"
    }
   ],
   "source": [
    "gdp_array[1]"
   ]
  },
  {
   "cell_type": "code",
   "execution_count": 4,
   "id": "d191f99a-0891-48a8-8ab0-b6b41e1013bd",
   "metadata": {},
   "outputs": [
    {
     "data": {
      "text/plain": [
       "35387"
      ]
     },
     "execution_count": 4,
     "metadata": {},
     "output_type": "execute_result"
    }
   ],
   "source": [
    "gdp_array[1][3] # 일본의 gdp의 2003년 값 많 받아오고 싶을 때"
   ]
  },
  {
   "cell_type": "code",
   "execution_count": 5,
   "id": "942421d6-f2e4-4b5e-804c-c77cca3d321b",
   "metadata": {},
   "outputs": [
    {
     "data": {
      "text/plain": [
       "35387"
      ]
     },
     "execution_count": 5,
     "metadata": {},
     "output_type": "execute_result"
    }
   ],
   "source": [
    "gdp_array[1, 3] # 같은 대괄호 안에서 쉼표로 나눠서 할 수도 있음"
   ]
  },
  {
   "cell_type": "code",
   "execution_count": 6,
   "id": "5f88a59a-a1a4-4517-b9a7-2b5b656f0fe2",
   "metadata": {},
   "outputs": [
    {
     "data": {
      "text/plain": [
       "array([[32821, 35387, 38299],\n",
       "       [ 1149,  1289,  1509]])"
      ]
     },
     "execution_count": 6,
     "metadata": {},
     "output_type": "execute_result"
    }
   ],
   "source": [
    "gdp_array[1:3, 2:5]  # 2차원 array에서 슬라이싱도 사용 가능\n",
    "# 첫 슬라이싱 : 일본 ~ 중국까지의 데이터 중\n",
    "# 두 번째 슬라이싱 : 2002 ~ 2004 까지의 데이터를 가져오겠다."
   ]
  },
  {
   "cell_type": "code",
   "execution_count": 7,
   "id": "d3c2270d-b913-4286-9bad-6e4e4e643ab6",
   "metadata": {},
   "outputs": [
    {
     "data": {
      "text/plain": [
       "array([[13165, 14673, 16496, 19403],\n",
       "       [32821, 35387, 38299, 37813],\n",
       "       [ 1149,  1289,  1509,  1753]])"
      ]
     },
     "execution_count": 7,
     "metadata": {},
     "output_type": "execute_result"
    }
   ],
   "source": [
    "gdp_array[:3, 2:] # 슬라이싱 기법처럼 이용 가능 (대한민국 부터 중국까지 데이터 중 2002년부터 2005년까지의 데이터 받아오기)"
   ]
  },
  {
   "cell_type": "code",
   "execution_count": 10,
   "id": "e4bc23ec-afd7-4575-b792-11aa3f0ea240",
   "metadata": {},
   "outputs": [
    {
     "data": {
      "text/plain": [
       "array([[13165, 14673, 16496],\n",
       "       [32821, 35387, 38299],\n",
       "       [ 1149,  1289,  1509],\n",
       "       [38023, 39496, 41713]])"
      ]
     },
     "execution_count": 10,
     "metadata": {},
     "output_type": "execute_result"
    }
   ],
   "source": [
    "gdp_array[:, 2:5] # 슬라이싱 기법처럼 이용 가능 (모든 국가의 2002년부터 2004년까지의 데이터 받아오기)"
   ]
  },
  {
   "cell_type": "code",
   "execution_count": 9,
   "id": "2e3a9b1c-4726-4e34-8a48-a8a4347f973c",
   "metadata": {},
   "outputs": [
    {
     "data": {
      "text/plain": [
       "array([[39169, 34406, 32821, 35387, 38299, 37813],\n",
       "       [  959,  1053,  1149,  1289,  1509,  1753]])"
      ]
     },
     "execution_count": 9,
     "metadata": {},
     "output_type": "execute_result"
    }
   ],
   "source": [
    "gdp_array[1:3, :] # 슬라이싱 기법처럼 이용 가능 (일본부터 중국까지의 모든 데이터 받아오기)"
   ]
  },
  {
   "cell_type": "code",
   "execution_count": null,
   "id": "02b805f7-1050-443b-a48b-3e384a872e74",
   "metadata": {},
   "outputs": [],
   "source": []
  }
 ],
 "metadata": {
  "kernelspec": {
   "display_name": "Python 3 (ipykernel)",
   "language": "python",
   "name": "python3"
  },
  "language_info": {
   "codemirror_mode": {
    "name": "ipython",
    "version": 3
   },
   "file_extension": ".py",
   "mimetype": "text/x-python",
   "name": "python",
   "nbconvert_exporter": "python",
   "pygments_lexer": "ipython3",
   "version": "3.12.7"
  }
 },
 "nbformat": 4,
 "nbformat_minor": 5
}
