{
 "cells": [
  {
   "cell_type": "markdown",
   "id": "aa24e4e0-f58e-4fd5-b89a-9d826dd2e1fc",
   "metadata": {},
   "source": [
    "# 실습 설명\n",
    "소원이는 부업으로 인터넷 쇼핑몰 운영을 시작했습니다.\\\n",
    "가격은 price_array, 판매 수량은 quantity_array에 저장되어 있는데요.\\\n",
    "치마, 티셔츠, 원피스, 스웨터, 코트, 청바지, 신발 순서대로 정보가 들어 있다고 합니다.\\\n",
    "각 상품별 매출액을 한번 계산해 볼까요? 실습 코드를 실행하면 아래와 같은 형태의 결과물이 출력되어야 합니다."
   ]
  },
  {
   "cell_type": "markdown",
   "id": "29b9bd9e-a01c-4afa-87d6-4772a0ff605d",
   "metadata": {},
   "source": [
    "# 실습 결과\n",
    "array([ 300000,  325000,  280000, 1200000,  570000,  665000,  450000])"
   ]
  },
  {
   "cell_type": "markdown",
   "id": "8fd09132-3d90-4576-b076-7e8f4e78705d",
   "metadata": {},
   "source": [
    "## 정답 코드"
   ]
  },
  {
   "cell_type": "code",
   "execution_count": 1,
   "id": "b835503e-17e3-4f0a-9cef-4a85b0be609e",
   "metadata": {},
   "outputs": [],
   "source": [
    "import numpy as np"
   ]
  },
  {
   "cell_type": "code",
   "execution_count": 2,
   "id": "ad5d03e4-45d5-473c-9e1f-b8e833ac59c2",
   "metadata": {},
   "outputs": [],
   "source": [
    "price_array = np.array([30000, 25000, 40000, 60000, 95000, 35000, 50000])"
   ]
  },
  {
   "cell_type": "code",
   "execution_count": 3,
   "id": "e9c54d29-4067-4bed-8959-92e4fbfb16ad",
   "metadata": {},
   "outputs": [],
   "source": [
    "quantity_array = np.array([10, 13, 7, 20, 6, 19, 9])"
   ]
  },
  {
   "cell_type": "code",
   "execution_count": 4,
   "id": "4ad786d4-1d93-4720-9845-19efcc9dcc84",
   "metadata": {},
   "outputs": [
    {
     "data": {
      "text/plain": [
       "array([ 300000,  325000,  280000, 1200000,  570000,  665000,  450000])"
      ]
     },
     "execution_count": 4,
     "metadata": {},
     "output_type": "execute_result"
    }
   ],
   "source": [
    "price_array * quantity_array"
   ]
  },
  {
   "cell_type": "code",
   "execution_count": null,
   "id": "b279e9a7-92ba-4881-a934-72ecc70ef5ae",
   "metadata": {},
   "outputs": [],
   "source": []
  }
 ],
 "metadata": {
  "kernelspec": {
   "display_name": "Python 3 (ipykernel)",
   "language": "python",
   "name": "python3"
  },
  "language_info": {
   "codemirror_mode": {
    "name": "ipython",
    "version": 3
   },
   "file_extension": ".py",
   "mimetype": "text/x-python",
   "name": "python",
   "nbconvert_exporter": "python",
   "pygments_lexer": "ipython3",
   "version": "3.12.7"
  }
 },
 "nbformat": 4,
 "nbformat_minor": 5
}
