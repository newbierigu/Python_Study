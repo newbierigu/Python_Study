{
 "cells": [
  {
   "cell_type": "code",
   "execution_count": 1,
   "id": "d7b5a9ee-4acf-49bc-8a77-d85e60fcbbaf",
   "metadata": {},
   "outputs": [],
   "source": [
    "import numpy as np"
   ]
  },
  {
   "cell_type": "code",
   "execution_count": 2,
   "id": "52f0cf98-f3f2-48ab-a944-69812db5d496",
   "metadata": {},
   "outputs": [],
   "source": [
    "gdp_kor_array = np.array([12257, 11561, 13165, 14673, 16496, 19403]) # 2000년 부터 2005년까지의 대한민국 인당 gdp 데이터"
   ]
  },
  {
   "cell_type": "markdown",
   "id": "30abd10b-b0b6-4057-853c-9714a3d687e9",
   "metadata": {},
   "source": [
    "위 데이터에다가 통계연산 몇 가지를 사용해보자."
   ]
  },
  {
   "cell_type": "markdown",
   "id": "daae4b12-48e3-4eaf-a4f1-d9b14b80ca33",
   "metadata": {},
   "source": [
    "우선 6년동안의 평균을 내려면 어떻게 해야할까?\\\n",
    "데이터 내의 값들을 전부 더해서 6으로 나눠도 되지만 이미 그런 기능은 numpy에 내장되어 있다.\\\n",
    "gdp_kor_array **.mean()**"
   ]
  },
  {
   "cell_type": "code",
   "execution_count": 3,
   "id": "80fdc9d4-a1bb-42de-b1e2-3b836bb8be3b",
   "metadata": {},
   "outputs": [
    {
     "data": {
      "text/plain": [
       "14592.5"
      ]
     },
     "execution_count": 3,
     "metadata": {},
     "output_type": "execute_result"
    }
   ],
   "source": [
    "gdp_kor_array.mean()"
   ]
  },
  {
   "cell_type": "code",
   "execution_count": 4,
   "id": "a439b67d-4535-422c-962f-85330a86bd0e",
   "metadata": {},
   "outputs": [
    {
     "data": {
      "text/plain": [
       "87555"
      ]
     },
     "execution_count": 4,
     "metadata": {},
     "output_type": "execute_result"
    }
   ],
   "source": [
    "gdp_kor_array.sum() # 데이터 내 값의 총 합을 리턴해주는 명령어"
   ]
  },
  {
   "cell_type": "code",
   "execution_count": 5,
   "id": "7b05bcdd-3374-40fe-a492-82836a2ba4e1",
   "metadata": {},
   "outputs": [
    {
     "data": {
      "text/plain": [
       "11561"
      ]
     },
     "execution_count": 5,
     "metadata": {},
     "output_type": "execute_result"
    }
   ],
   "source": [
    "gdp_kor_array.min() # 데이터 내 최솟값을 리턴해주는 명령어"
   ]
  },
  {
   "cell_type": "code",
   "execution_count": 6,
   "id": "3b05528d-9e21-4f50-a6f6-afa0d5d86abc",
   "metadata": {},
   "outputs": [
    {
     "data": {
      "text/plain": [
       "19403"
      ]
     },
     "execution_count": 6,
     "metadata": {},
     "output_type": "execute_result"
    }
   ],
   "source": [
    "gdp_kor_array.max() # 데이터 내 최댓값을 리턴해주는 명령어"
   ]
  },
  {
   "cell_type": "markdown",
   "id": "412e30ec-efdf-4b93-9bb5-b7b57fa13855",
   "metadata": {},
   "source": [
    "이런식으로 기본적인 통계연산들은 Numpy에 내장되어있으니, 편하게 사용 가능하다."
   ]
  },
  {
   "cell_type": "markdown",
   "id": "de059f55-bbb3-44bf-996d-3a6b9f34884b",
   "metadata": {},
   "source": [
    "이번엔 array값들 전체에 대해 한꺼번에 연산을 하는 법에 대해 배워보자."
   ]
  },
  {
   "cell_type": "markdown",
   "id": "fb5b381c-a915-4a63-84bc-b1e46694c0d0",
   "metadata": {},
   "source": [
    "지금 gdp_kor_array 값들은 전부 $(달러)로 되어있다.\\\n",
    "이걸 원화로 바꿔보자."
   ]
  },
  {
   "cell_type": "markdown",
   "id": "e15fd5cd-fe6f-4a0d-b11f-86ba3eedb108",
   "metadata": {},
   "source": [
    "환율이 1$ = 1200원 이라고 치면"
   ]
  },
  {
   "cell_type": "code",
   "execution_count": 7,
   "id": "83074120-d58c-481c-9500-e396a459612f",
   "metadata": {},
   "outputs": [
    {
     "data": {
      "text/plain": [
       "array([14708400, 13873200, 15798000, 17607600, 19795200, 23283600])"
      ]
     },
     "execution_count": 7,
     "metadata": {},
     "output_type": "execute_result"
    }
   ],
   "source": [
    "# 기존 파이썬 문법 사용 시\n",
    "# for i in range(len(gdp_kor_array)):\n",
    "    # gdp_kor_array[i] = gdp_kor_array[i] * 1200\n",
    "\n",
    "# 위 방법을 numpy 사용 시\n",
    "gdp_kor_array * 1200"
   ]
  },
  {
   "cell_type": "markdown",
   "id": "3f655c70-128b-40d3-a535-5bdc6b8224ad",
   "metadata": {},
   "source": [
    "위와 같이 간단한 코드로 각 값에 1200을 곱할 수 있음."
   ]
  },
  {
   "cell_type": "code",
   "execution_count": 8,
   "id": "f2c924d8-bb42-4be7-b9b6-a117a69ea0cd",
   "metadata": {},
   "outputs": [
    {
     "data": {
      "text/plain": [
       "array([12257, 11561, 13165, 14673, 16496, 19403])"
      ]
     },
     "execution_count": 8,
     "metadata": {},
     "output_type": "execute_result"
    }
   ],
   "source": [
    "gdp_kor_array"
   ]
  },
  {
   "cell_type": "markdown",
   "id": "c3436414-baae-41b3-ad6e-2f3c00119e96",
   "metadata": {},
   "source": [
    "그런데 gdp_kor_array를 다시 호출하면 1200이 곱해진 값이 아닌 $ 환율로 나온다.\\\n",
    "그 이유는 **원화 환율로 바꾼 값을 gdp_kor_array에 저장을 안 해줘서**이다.\\\n",
    "gdp_kor_array = gdp_kor_array * 1200  을 사용해보자."
   ]
  },
  {
   "cell_type": "code",
   "execution_count": 9,
   "id": "dc560df1-b6bd-4c6e-a9f1-c59d6b1a2f22",
   "metadata": {},
   "outputs": [
    {
     "data": {
      "text/plain": [
       "array([14708400, 13873200, 15798000, 17607600, 19795200, 23283600])"
      ]
     },
     "execution_count": 9,
     "metadata": {},
     "output_type": "execute_result"
    }
   ],
   "source": [
    "gdp_kor_array = gdp_kor_array * 1200\n",
    "gdp_kor_array"
   ]
  },
  {
   "cell_type": "markdown",
   "id": "7951648b-02db-4b35-a148-420428f56d2c",
   "metadata": {},
   "source": [
    "다시 원래대로 되돌리고 싶다면,\\\n",
    "gdp_kor_array = gdp_kor_array / 1200"
   ]
  },
  {
   "cell_type": "code",
   "execution_count": 10,
   "id": "05103d74-ef37-4881-bdee-4f2c777fe978",
   "metadata": {},
   "outputs": [
    {
     "data": {
      "text/plain": [
       "array([12257., 11561., 13165., 14673., 16496., 19403.])"
      ]
     },
     "execution_count": 10,
     "metadata": {},
     "output_type": "execute_result"
    }
   ],
   "source": [
    "gdp_kor_array = gdp_kor_array / 1200\n",
    "gdp_kor_array"
   ]
  },
  {
   "cell_type": "markdown",
   "id": "ecb0996e-b8d8-4ed1-984c-93f2c03e26fa",
   "metadata": {},
   "source": [
    "지금까지는 array다가 숫자를 곱하거나 나누는것을 해봤다.\\\n",
    "이번엔 array와 array 끼리 연산하는 것을 해보자."
   ]
  },
  {
   "cell_type": "code",
   "execution_count": 12,
   "id": "556515b2-b3d7-473a-a613-54dbe5beab20",
   "metadata": {},
   "outputs": [],
   "source": [
    "gdp_us_array = np.array([36335, 37133, 38023, 39496, 41713, 44115]) # 미국 연간 gdp"
   ]
  },
  {
   "cell_type": "markdown",
   "id": "526dacea-4137-4c69-bdda-c49ed49a5a8d",
   "metadata": {},
   "source": [
    "두 나라의 연간 gdp가 연도별로 얼마나 차이나는지에 대해서 알아보자."
   ]
  },
  {
   "cell_type": "code",
   "execution_count": 14,
   "id": "a9b2e03b-de05-495e-bd54-515858a68fb2",
   "metadata": {},
   "outputs": [
    {
     "data": {
      "text/plain": [
       "array([24078., 25572., 24858., 24823., 25217., 24712.])"
      ]
     },
     "execution_count": 14,
     "metadata": {},
     "output_type": "execute_result"
    }
   ],
   "source": [
    "gdp_us_array - gdp_kor_array"
   ]
  },
  {
   "cell_type": "markdown",
   "id": "35685e34-cd0e-4748-8c0a-02aac1aa2d31",
   "metadata": {},
   "source": [
    "각 위치의 값들 끼리 빼줘서, 결과가 나옴. (사칙연산 적용가능)"
   ]
  },
  {
   "cell_type": "code",
   "execution_count": 15,
   "id": "402fb408-ce0f-4c9e-a7e9-fe8283d038d1",
   "metadata": {},
   "outputs": [
    {
     "data": {
      "text/plain": [
       "array([2.96442849, 3.21191938, 2.88818838, 2.69174675, 2.52867362,\n",
       "       2.27361748])"
      ]
     },
     "execution_count": 15,
     "metadata": {},
     "output_type": "execute_result"
    }
   ],
   "source": [
    "gdp_us_array / gdp_kor_array # 연도별 인당 gdp가 미국이 한국에 몇 배인지 확인 가능"
   ]
  },
  {
   "cell_type": "markdown",
   "id": "b2cc9123-e464-4f95-b1b1-424115dfe4b1",
   "metadata": {},
   "source": [
    "# Numpy 정리"
   ]
  },
  {
   "cell_type": "markdown",
   "id": "6abae739-687d-455a-8d7a-782fdfc86ae3",
   "metadata": {},
   "source": [
    "### 1. 통계연산을 파이썬 코드처럼 복잡하게 작성할 필요 없이 간단하게 사용할 수 있다.\n",
    "       - .mean() : 평균\n",
    "       - .sum()  : 합계\n",
    "       - .max()  : 최댓값\n",
    "       - .min()  : 최솟값\n",
    "\n",
    "### 2. array의 값들에게 어떤 연산을 하고싶으면, 하나씩 할 필요없이 한꺼번에 간편하게 할 수 있음\n",
    "       - array1 = [3, 4, 6, 8, 12]\n",
    "       - array1 = array1 + 1\n",
    "       - array1\n",
    "       - array([4, 5, 7, 9, 13])\n",
    "\n",
    "### 3. array와 array간의 연산도 비슷하게 할 수 있다.\n",
    "       - array1 = [1, 2, 3, 4, 5]\n",
    "       - array2 = [2, 4, 5, 6, 8]\n",
    "       - array1 * array2\n",
    "       - array([2, 8, 15, 24, 40])"
   ]
  },
  {
   "cell_type": "code",
   "execution_count": null,
   "id": "88c37f3f-e382-47af-9c51-aede9172bae5",
   "metadata": {},
   "outputs": [],
   "source": []
  }
 ],
 "metadata": {
  "kernelspec": {
   "display_name": "Python 3 (ipykernel)",
   "language": "python",
   "name": "python3"
  },
  "language_info": {
   "codemirror_mode": {
    "name": "ipython",
    "version": 3
   },
   "file_extension": ".py",
   "mimetype": "text/x-python",
   "name": "python",
   "nbconvert_exporter": "python",
   "pygments_lexer": "ipython3",
   "version": "3.12.7"
  }
 },
 "nbformat": 4,
 "nbformat_minor": 5
}
