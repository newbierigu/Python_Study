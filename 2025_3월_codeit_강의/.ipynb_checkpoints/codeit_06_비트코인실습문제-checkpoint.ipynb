{
 "cells": [
  {
   "cell_type": "markdown",
   "id": "9291d261-cd45-4f7d-baf9-30882d47d0a7",
   "metadata": {},
   "source": [
    "# 실습 설명\n",
    "\n",
    "bitcoin_array에는 비트코인 투자 열풍이 불었던 2017년의 월별 비트코인 가격이 들어있습니다. 여기서 3분기(7월~9월)의 비트코인 가격만 가져와 보세요."
   ]
  },
  {
   "cell_type": "code",
   "execution_count": 1,
   "id": "63176956-4bff-4d53-991b-91ceb1fd61ac",
   "metadata": {},
   "outputs": [],
   "source": [
    "import numpy as np"
   ]
  },
  {
   "cell_type": "code",
   "execution_count": 2,
   "id": "af1a74d8-85f0-4967-b4e7-d2660a88dea8",
   "metadata": {},
   "outputs": [],
   "source": [
    "bitcoin_array = np.array([970, 1180, 1072, 1348, 2286, 2481,\n",
    "                          2875, 4703, 4339, 6468, 10234, 14156])"
   ]
  },
  {
   "cell_type": "markdown",
   "id": "76f64d65-cfdb-472a-8adb-6315697ad216",
   "metadata": {},
   "source": [
    "### 정답 코드"
   ]
  },
  {
   "cell_type": "code",
   "execution_count": 3,
   "id": "e293c4ed-c41b-4278-9faa-91fbce4b0a92",
   "metadata": {},
   "outputs": [
    {
     "data": {
      "text/plain": [
       "array([2875, 4703, 4339])"
      ]
     },
     "execution_count": 3,
     "metadata": {},
     "output_type": "execute_result"
    }
   ],
   "source": [
    "bitcoin_array[6:9]"
   ]
  },
  {
   "cell_type": "code",
   "execution_count": null,
   "id": "920ae960-da9c-445d-9450-c36529fe1948",
   "metadata": {},
   "outputs": [],
   "source": []
  }
 ],
 "metadata": {
  "kernelspec": {
   "display_name": "Python 3 (ipykernel)",
   "language": "python",
   "name": "python3"
  },
  "language_info": {
   "codemirror_mode": {
    "name": "ipython",
    "version": 3
   },
   "file_extension": ".py",
   "mimetype": "text/x-python",
   "name": "python",
   "nbconvert_exporter": "python",
   "pygments_lexer": "ipython3",
   "version": "3.12.7"
  }
 },
 "nbformat": 4,
 "nbformat_minor": 5
}
