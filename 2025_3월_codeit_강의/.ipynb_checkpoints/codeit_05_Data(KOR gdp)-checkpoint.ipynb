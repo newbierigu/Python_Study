{
 "cells": [
  {
   "cell_type": "code",
   "execution_count": 1,
   "id": "a386edba-7e93-4807-a6c0-b1bb97e8fb68",
   "metadata": {},
   "outputs": [],
   "source": [
    "import numpy as np"
   ]
  },
  {
   "cell_type": "code",
   "execution_count": 2,
   "id": "1542ac22-4300-48ee-990b-eb0b8d34322e",
   "metadata": {},
   "outputs": [],
   "source": [
    "gdp_array = np.array([6610, 7637, 8127, 8885, 10385, 12565, 13403, 12398, 8282, 10672]) # 1990 ~ 1999년 까지의 대한민국 gdp"
   ]
  },
  {
   "cell_type": "markdown",
   "id": "ddf9d457-fdaa-420c-8938-042ab0ba656f",
   "metadata": {},
   "source": [
    "위 array에서 특정 값을 받고 싶다면 **인덱싱**을 해야한다."
   ]
  },
  {
   "cell_type": "markdown",
   "id": "0721bb46-fae7-446c-8701-c68412d76efc",
   "metadata": {},
   "source": [
    "예를 들어 *1990년*의 값은 *0번 인덱스*에 들어있으니까 > **gdp_array[0]**"
   ]
  },
  {
   "cell_type": "code",
   "execution_count": 3,
   "id": "4cc159a9-a2a0-44fd-8db7-91019deee1c6",
   "metadata": {},
   "outputs": [
    {
     "data": {
      "text/plain": [
       "6610"
      ]
     },
     "execution_count": 3,
     "metadata": {},
     "output_type": "execute_result"
    }
   ],
   "source": [
    "gdp_array[0]"
   ]
  },
  {
   "cell_type": "markdown",
   "id": "2aea8516-9cfd-4f10-84f7-e40349df591a",
   "metadata": {},
   "source": [
    "다음으로 *1992년* 값은 > **gdp_aarray[2]**"
   ]
  },
  {
   "cell_type": "code",
   "execution_count": 4,
   "id": "9cd62ae1-2ef1-46e0-ad67-fd4083971822",
   "metadata": {},
   "outputs": [
    {
     "data": {
      "text/plain": [
       "8127"
      ]
     },
     "execution_count": 4,
     "metadata": {},
     "output_type": "execute_result"
    }
   ],
   "source": [
    "gdp_array[2]"
   ]
  },
  {
   "cell_type": "markdown",
   "id": "e7d66a44-1f04-4dca-be40-b27365fa2323",
   "metadata": {},
   "source": [
    "그리고 제일 끝에있는 *1999년* 값을 가져오고 싶다면 > **gdp_array[-1]** or **gdp_array[9]**"
   ]
  },
  {
   "cell_type": "code",
   "execution_count": 5,
   "id": "ac8ee785-f2c0-49a7-84ad-d6aae45921de",
   "metadata": {},
   "outputs": [
    {
     "data": {
      "text/plain": [
       "10672"
      ]
     },
     "execution_count": 5,
     "metadata": {},
     "output_type": "execute_result"
    }
   ],
   "source": [
    "gdp_array[-1]"
   ]
  },
  {
   "cell_type": "code",
   "execution_count": 6,
   "id": "69fb18bc-7089-4f47-842d-43a49c4c0e03",
   "metadata": {},
   "outputs": [
    {
     "data": {
      "text/plain": [
       "10672"
      ]
     },
     "execution_count": 6,
     "metadata": {},
     "output_type": "execute_result"
    }
   ],
   "source": [
    "gdp_array[9]"
   ]
  },
  {
   "cell_type": "markdown",
   "id": "afac0c68-30d9-42eb-9bc7-bf4b368bbffd",
   "metadata": {},
   "source": [
    "끝에서 2 번째 값인 *8282*를 가지고 오고 싶다면 > **gdp_array[-2]**"
   ]
  },
  {
   "cell_type": "code",
   "execution_count": 7,
   "id": "84f956a7-eda0-4c18-8f97-810bcbcc3dc7",
   "metadata": {},
   "outputs": [
    {
     "data": {
      "text/plain": [
       "8282"
      ]
     },
     "execution_count": 7,
     "metadata": {},
     "output_type": "execute_result"
    }
   ],
   "source": [
    "gdp_array[-2]"
   ]
  },
  {
   "cell_type": "markdown",
   "id": "2736a689-39cb-4f33-a5e5-eb0383bd0ad3",
   "metadata": {},
   "source": [
    "여기까지는 파이썬 인덱싱 방법이랑 같음"
   ]
  },
  {
   "cell_type": "markdown",
   "id": "e9405130-6b08-4a69-8116-d32c7449ea5c",
   "metadata": {},
   "source": [
    "## 이제부터 Numpy에만 있는 특이한 것들"
   ]
  },
  {
   "cell_type": "markdown",
   "id": "2050d726-5c5f-42d2-be4c-d59c39ee9f03",
   "metadata": {},
   "source": [
    "지금까지는 값을 하나씩 받아왔지만, 값을 **여러 개 받아오고 싶을 때**"
   ]
  },
  {
   "cell_type": "code",
   "execution_count": 8,
   "id": "edee3fb3-1002-4b4c-bc1c-528214a5da49",
   "metadata": {},
   "outputs": [
    {
     "data": {
      "text/plain": [
       "array([ 7637,  8885, 10385])"
      ]
     },
     "execution_count": 8,
     "metadata": {},
     "output_type": "execute_result"
    }
   ],
   "source": [
    "gdp_array[[1, 3, 4]] # 대괄호 안에 파이썬 리스트를 넣음"
   ]
  },
  {
   "cell_type": "code",
   "execution_count": 9,
   "id": "45a8aded-4597-4511-ae20-ecf013e141e4",
   "metadata": {},
   "outputs": [
    {
     "data": {
      "text/plain": [
       "array([ 8127,  7637,  8885, 12565])"
      ]
     },
     "execution_count": 9,
     "metadata": {},
     "output_type": "execute_result"
    }
   ],
   "source": [
    "array1 = np.array([2, 1, 3, 5]) # array1을 생성하여, 그 안의 값으로 인덱싱하여 값을 뽑아냄.\n",
    "gdp_array[array1]"
   ]
  },
  {
   "cell_type": "code",
   "execution_count": 10,
   "id": "1b1e0bfd-cc34-4493-abda-54bbb644eb42",
   "metadata": {},
   "outputs": [
    {
     "data": {
      "text/plain": [
       "array([ 8127,  8885, 10385, 12565])"
      ]
     },
     "execution_count": 10,
     "metadata": {},
     "output_type": "execute_result"
    }
   ],
   "source": [
    "gdp_array[2:6] # 슬라이싱(2번 인덱스 부터 ~ 5번 인덱스 자리의 값을 가져옴)(python 슬라이싱과 개념 같음)"
   ]
  },
  {
   "cell_type": "code",
   "execution_count": 11,
   "id": "6844eaee-1815-4a91-a663-191014dc5982",
   "metadata": {},
   "outputs": [
    {
     "data": {
      "text/plain": [
       "array([ 6610,  7637,  8127,  8885, 10385, 12565])"
      ]
     },
     "execution_count": 11,
     "metadata": {},
     "output_type": "execute_result"
    }
   ],
   "source": [
    "gdp_array[:6] # 슬라이싱 활용 2(python 슬라이싱과 개념 같음)"
   ]
  },
  {
   "cell_type": "code",
   "execution_count": 12,
   "id": "efecf4e8-0afc-4651-a1cd-a20116b632a8",
   "metadata": {},
   "outputs": [
    {
     "data": {
      "text/plain": [
       "array([12565, 13403, 12398,  8282, 10672])"
      ]
     },
     "execution_count": 12,
     "metadata": {},
     "output_type": "execute_result"
    }
   ],
   "source": [
    "gdp_array[5:] # 슬라이싱 활용 3(python 슬라이싱과 개념 같음)"
   ]
  },
  {
   "cell_type": "code",
   "execution_count": 13,
   "id": "3e3a19c3-0f63-488b-999c-a123c242a33d",
   "metadata": {},
   "outputs": [
    {
     "data": {
      "text/plain": [
       "array([ 7637, 10385, 12398])"
      ]
     },
     "execution_count": 13,
     "metadata": {},
     "output_type": "execute_result"
    }
   ],
   "source": [
    "gdp_array[1:8:3] # 슬라이싱 활용 4(python 슬라이싱과 개념 같음)"
   ]
  }
 ],
 "metadata": {
  "kernelspec": {
   "display_name": "Python 3 (ipykernel)",
   "language": "python",
   "name": "python3"
  },
  "language_info": {
   "codemirror_mode": {
    "name": "ipython",
    "version": 3
   },
   "file_extension": ".py",
   "mimetype": "text/x-python",
   "name": "python",
   "nbconvert_exporter": "python",
   "pygments_lexer": "ipython3",
   "version": "3.12.7"
  }
 },
 "nbformat": 4,
 "nbformat_minor": 5
}
