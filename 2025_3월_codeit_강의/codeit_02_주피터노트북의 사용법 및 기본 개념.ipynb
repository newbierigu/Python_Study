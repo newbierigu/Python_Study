{
 "cells": [
  {
   "cell_type": "code",
   "execution_count": 8,
   "id": "69045523-8b3b-4e7e-b8e4-4b374581dbba",
   "metadata": {},
   "outputs": [
    {
     "name": "stdout",
     "output_type": "stream",
     "text": [
      "5\n",
      "10\n"
     ]
    }
   ],
   "source": [
    "x = 5\n",
    "y = 10\n",
    "print(x)\n",
    "print(y)"
   ]
  },
  {
   "cell_type": "code",
   "execution_count": 2,
   "id": "7800cfa1-dc01-4b74-8088-9ca03d2a31e7",
   "metadata": {},
   "outputs": [
    {
     "name": "stdout",
     "output_type": "stream",
     "text": [
      "15\n"
     ]
    }
   ],
   "source": [
    "print(x + y)"
   ]
  },
  {
   "cell_type": "code",
   "execution_count": 3,
   "id": "86f804f1-e414-4565-91a3-f73316429748",
   "metadata": {},
   "outputs": [],
   "source": [
    "# 위 동작은 cunnul 이라는 개념임. 셀들을 각각 독립적으로 실행했지만, 셀들간의 변수와 함수를 공유하는것.\n",
    "# 다른 셀에서 실행한 변수와 함수를 사용할 수 있음. cunnul은 하나의 세션이라고 생각하면 됨.\n",
    "# 중요한 특징임."
   ]
  },
  {
   "cell_type": "code",
   "execution_count": 7,
   "id": "64cec092-2ff1-465c-9869-25765d89b66a",
   "metadata": {},
   "outputs": [
    {
     "ename": "NameError",
     "evalue": "name 'x' is not defined",
     "output_type": "error",
     "traceback": [
      "\u001b[1;31m---------------------------------------------------------------------------\u001b[0m",
      "\u001b[1;31mNameError\u001b[0m                                 Traceback (most recent call last)",
      "Cell \u001b[1;32mIn[7], line 1\u001b[0m\n\u001b[1;32m----> 1\u001b[0m x\n",
      "\u001b[1;31mNameError\u001b[0m: name 'x' is not defined"
     ]
    }
   ],
   "source": [
    "x"
   ]
  },
  {
   "cell_type": "code",
   "execution_count": 5,
   "id": "104dd38d-c6ad-46e3-a7a7-91d4457ae89a",
   "metadata": {},
   "outputs": [
    {
     "data": {
      "text/plain": [
       "10"
      ]
     },
     "execution_count": 5,
     "metadata": {},
     "output_type": "execute_result"
    }
   ],
   "source": [
    "y"
   ]
  },
  {
   "cell_type": "code",
   "execution_count": 3,
   "id": "b89944de-18c2-49dc-8923-843c50571ac0",
   "metadata": {},
   "outputs": [
    {
     "data": {
      "text/plain": [
       "30"
      ]
     },
     "execution_count": 3,
     "metadata": {},
     "output_type": "execute_result"
    }
   ],
   "source": [
    "z"
   ]
  },
  {
   "cell_type": "code",
   "execution_count": null,
   "id": "71ffd620-1b12-4e84-bc81-983a6440e040",
   "metadata": {},
   "outputs": [],
   "source": [
    "x + y"
   ]
  },
  {
   "cell_type": "code",
   "execution_count": null,
   "id": "993f8d72-8591-4100-9ada-9c5bd4547a2c",
   "metadata": {},
   "outputs": [],
   "source": [
    "2 + 6"
   ]
  },
  {
   "cell_type": "code",
   "execution_count": 10,
   "id": "910a9308-bd8f-496a-a78f-ae7620d7c53b",
   "metadata": {},
   "outputs": [
    {
     "data": {
      "text/plain": [
       "15"
      ]
     },
     "execution_count": 10,
     "metadata": {},
     "output_type": "execute_result"
    }
   ],
   "source": [
    "x\n",
    "y"
   ]
  },
  {
   "cell_type": "code",
   "execution_count": null,
   "id": "a77458c1-6b32-4675-9fe0-dc40456c7824",
   "metadata": {},
   "outputs": [],
   "source": [
    "# 주피터노트북에서는 셀의 맨 마지막 줄의 결과 값만 출력한다.\n",
    "# 그런데 만약 마지막 줄에 결과 값이 없다면 아무것도 출력하지 않는다."
   ]
  },
  {
   "cell_type": "code",
   "execution_count": 2,
   "id": "a2373c94-8990-4d56-aaa7-f335ac1601bf",
   "metadata": {},
   "outputs": [],
   "source": [
    "a = 5 # 변수 선언(결과 값 없음)"
   ]
  },
  {
   "cell_type": "code",
   "execution_count": null,
   "id": "9bf76bcc-9464-40ee-8303-c7e65b311a93",
   "metadata": {},
   "outputs": [],
   "source": [
    "# 실행 했을 때 아무것도 출력안됨"
   ]
  },
  {
   "cell_type": "code",
   "execution_count": 9,
   "id": "8c31be1c-4e28-482a-9979-c680d178a4ba",
   "metadata": {},
   "outputs": [],
   "source": [
    "y = 15\n",
    "z = 30"
   ]
  },
  {
   "cell_type": "code",
   "execution_count": null,
   "id": "4896a558-591f-4bf7-ad9f-02cc2f2e8470",
   "metadata": {},
   "outputs": [],
   "source": [
    "# y = 10 의 결과를 해당 줄에서 15로 변경하고, y 호출했던 셀을 다시 실행하면 15로 바껴서 실행된다."
   ]
  },
  {
   "cell_type": "code",
   "execution_count": null,
   "id": "f01f7b9d-5931-41f6-b53e-24bd82e076f2",
   "metadata": {},
   "outputs": [],
   "source": [
    "# 옆에 나온 실행 순서에 따라서 결과 값이 반영된다."
   ]
  },
  {
   "cell_type": "code",
   "execution_count": 8,
   "id": "225bbb96-4018-4db4-b703-5d9cf5780e29",
   "metadata": {},
   "outputs": [],
   "source": [
    "# 주피터 노트북은 코드를 순서대로 작성해야지 코드가 꼬이지 않고 잘 동작한다."
   ]
  }
 ],
 "metadata": {
  "kernelspec": {
   "display_name": "Python 3 (ipykernel)",
   "language": "python",
   "name": "python3"
  },
  "language_info": {
   "codemirror_mode": {
    "name": "ipython",
    "version": 3
   },
   "file_extension": ".py",
   "mimetype": "text/x-python",
   "name": "python",
   "nbconvert_exporter": "python",
   "pygments_lexer": "ipython3",
   "version": "3.12.7"
  }
 },
 "nbformat": 4,
 "nbformat_minor": 5
}
