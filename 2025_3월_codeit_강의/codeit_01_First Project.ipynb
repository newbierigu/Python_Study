{
 "cells": [
  {
   "cell_type": "code",
   "execution_count": 9,
   "id": "6adf035f-6222-4b6e-bf8e-8bff0b703f72",
   "metadata": {},
   "outputs": [
    {
     "name": "stdout",
     "output_type": "stream",
     "text": [
      "hello jupyter!\n"
     ]
    }
   ],
   "source": [
    "print('hello jupyter!')"
   ]
  },
  {
   "cell_type": "code",
   "execution_count": 12,
   "id": "5b738639-2ddc-4dae-b003-520836ca5d10",
   "metadata": {},
   "outputs": [
    {
     "name": "stdout",
     "output_type": "stream",
     "text": [
      "my first project\n"
     ]
    }
   ],
   "source": [
    "print('my first project')"
   ]
  }
 ],
 "metadata": {
  "kernelspec": {
   "display_name": "Python 3 (ipykernel)",
   "language": "python",
   "name": "python3"
  },
  "language_info": {
   "codemirror_mode": {
    "name": "ipython",
    "version": 3
   },
   "file_extension": ".py",
   "mimetype": "text/x-python",
   "name": "python",
   "nbconvert_exporter": "python",
   "pygments_lexer": "ipython3",
   "version": "3.12.7"
  }
 },
 "nbformat": 4,
 "nbformat_minor": 5
}
