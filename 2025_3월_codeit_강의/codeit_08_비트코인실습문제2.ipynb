{
 "cells": [
  {
   "cell_type": "markdown",
   "id": "8c6be629-715f-4e70-8b34-68c07cac167d",
   "metadata": {},
   "source": [
    "# 실습 설명"
   ]
  },
  {
   "cell_type": "markdown",
   "id": "d4ed4835-49b9-465e-b3e6-a87f9d80487d",
   "metadata": {},
   "source": [
    "이번에 실습에서 살펴볼 bitcoin_array는 2017년 월별 비트코인 가격과 거래량 정보가 들어 있는 2차원 array입니다.\\\n",
    "*첫 번째 로우에는 가격 정보, 두 번째 로우에는 거래량(천만 기준) 정보*가 들어 있죠.\\\n",
    "여기서 **7월의 비트코인 거래량 정보**만 가져와 보세요!"
   ]
  },
  {
   "cell_type": "code",
   "execution_count": 1,
   "id": "adcbebde-f5cd-4405-92a6-36e725517b9c",
   "metadata": {},
   "outputs": [],
   "source": [
    "import numpy as np"
   ]
  },
  {
   "cell_type": "code",
   "execution_count": 2,
   "id": "8f6d43a4-3bbf-49ee-93ea-dc660214c3b6",
   "metadata": {},
   "outputs": [],
   "source": [
    "bitcoin_array = np.array([[970, 1180, 1072, 1348, 2286, 2481,\n",
    "\t\t\t\t\t\t   2875, 4703, 4339, 6468, 10234, 14156],\n",
    "\t\t\t\t\t\t  [514, 428, 1087, 976, 3426, 4448,\n",
    "\t\t\t\t\t\t   3262, 6355, 5570, 5801, 14074, 41034]])"
   ]
  },
  {
   "cell_type": "markdown",
   "id": "69b09e81-1379-4f28-93f1-28f78c5327cb",
   "metadata": {},
   "source": [
    "## 정답 코드"
   ]
  },
  {
   "cell_type": "code",
   "execution_count": 3,
   "id": "5d6848cc-b12a-47c8-9c1b-f70ec4d67a75",
   "metadata": {},
   "outputs": [
    {
     "data": {
      "text/plain": [
       "3262"
      ]
     },
     "execution_count": 3,
     "metadata": {},
     "output_type": "execute_result"
    }
   ],
   "source": [
    "bitcoin_array[1, 6]"
   ]
  },
  {
   "cell_type": "code",
   "execution_count": null,
   "id": "2eec38bc-75ed-487e-a373-7aaee8b08bd8",
   "metadata": {},
   "outputs": [],
   "source": []
  }
 ],
 "metadata": {
  "kernelspec": {
   "display_name": "Python 3 (ipykernel)",
   "language": "python",
   "name": "python3"
  },
  "language_info": {
   "codemirror_mode": {
    "name": "ipython",
    "version": 3
   },
   "file_extension": ".py",
   "mimetype": "text/x-python",
   "name": "python",
   "nbconvert_exporter": "python",
   "pygments_lexer": "ipython3",
   "version": "3.12.7"
  }
 },
 "nbformat": 4,
 "nbformat_minor": 5
}
