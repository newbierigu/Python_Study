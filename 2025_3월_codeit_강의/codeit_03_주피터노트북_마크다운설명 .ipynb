{
 "cells": [
  {
   "cell_type": "markdown",
   "id": "459ecbcf-d71d-4e31-b63e-e433b5b79f34",
   "metadata": {},
   "source": [
    "데이터 사이언스"
   ]
  },
  {
   "cell_type": "markdown",
   "id": "8357cd9b-82a4-43f0-8910-03e2a6babe15",
   "metadata": {},
   "source": [
    "위 셀을 마크다운 셀로 변경 함.\n",
    "Markdown > 글을 깔끔하게 정리할 수 있게 해주는 언어\n",
    "Markdown 문법을 따라서 글을 작성하면,\\\n",
    "**글씨 크기나 굵기를 바꿀 수 있고 문단을 나누거나 링크를 넣거나, 이미지나 영상을 첨부할 수 있음**"
   ]
  },
  {
   "cell_type": "markdown",
   "id": "542b07ab-fdc0-4c34-be1f-0067e2b7b127",
   "metadata": {},
   "source": [
    "## 마크다운 문법 사용 법"
   ]
  },
  {
   "cell_type": "markdown",
   "id": "6dad920f-af90-4a6c-aa89-eacec8db6507",
   "metadata": {},
   "source": [
    "### 1. 셀을 마크다운 셀로 변경한 후 **\"# 데이터 사이언스\"** 를 입력하고 실행하면,"
   ]
  },
  {
   "cell_type": "markdown",
   "id": "933875ae-58a5-4cd1-a8e2-4e9e45b0570e",
   "metadata": {},
   "source": [
    "# 데이터 사이언스"
   ]
  },
  {
   "cell_type": "code",
   "execution_count": 4,
   "id": "e9d41559-19bf-4025-babb-1f421109435e",
   "metadata": {},
   "outputs": [],
   "source": [
    "# 큰 제목이 나옴"
   ]
  },
  {
   "cell_type": "code",
   "execution_count": 5,
   "id": "936994eb-5723-4899-8f69-46b30c65a067",
   "metadata": {},
   "outputs": [],
   "source": [
    "# '#'을 2개 씩 3개 씩 사용해보자."
   ]
  },
  {
   "cell_type": "markdown",
   "id": "163dafcc-aef2-4b06-9154-44f55ec9191c",
   "metadata": {},
   "source": [
    "## 데이터 사이언스"
   ]
  },
  {
   "cell_type": "markdown",
   "id": "12d35f61-d769-4cd1-acdc-ce3a061a6342",
   "metadata": {},
   "source": [
    "### 데이터 사이언스"
   ]
  },
  {
   "cell_type": "code",
   "execution_count": 6,
   "id": "f51a4c4b-c2f9-48ff-8d68-a611452bf11b",
   "metadata": {},
   "outputs": [],
   "source": [
    "# '#'을 많이 사용할 수록 글꼴 크기가 작아진다."
   ]
  },
  {
   "cell_type": "markdown",
   "id": "c49816f6-55e4-48f5-9f4e-5a2a9a15766e",
   "metadata": {},
   "source": [
    "## 이번 토픽을 통해 데이터 사이언스의 기초를 탄탄하게 다집시다."
   ]
  },
  {
   "cell_type": "markdown",
   "id": "652e0fa1-3c93-4897-b289-4a1090ce6aa7",
   "metadata": {},
   "source": [
    "### 2. 윗 글에서 '데이터 사이언스'의 글꼴을 굵게 변경하고 싶다면, \"\\*\\*데이터 사이언스\\*\\*\" 로 입력하면 된다."
   ]
  },
  {
   "cell_type": "markdown",
   "id": "c6bc2527-427d-4423-a7da-25f8d79a821a",
   "metadata": {},
   "source": [
    "이번 토픽을 통해 **데이터 사이언스**의 기초를 탄탄하게 다집시다"
   ]
  },
  {
   "cell_type": "code",
   "execution_count": 8,
   "id": "d13a6eff-8d8f-4271-b7e7-7b0255fb05c4",
   "metadata": {},
   "outputs": [],
   "source": [
    "# '탄탄하게'의 글꼴을 기울여 강조하고 싶다면 *탄탄하게* 로 작성하면 된다."
   ]
  },
  {
   "cell_type": "markdown",
   "id": "053a6e07-9950-4b9d-bec0-f3b9bd0449c2",
   "metadata": {},
   "source": [
    "이번 토픽을 통해 **데이터 사이언스**의 기초를 *탄탄하게* 다집시다."
   ]
  },
  {
   "cell_type": "markdown",
   "id": "a96eb4e9-3b43-429c-bf76-d3bc3abc301a",
   "metadata": {},
   "source": [
    "### 3.  소제목 처럼 앞에 점이 있는 리스트를 만들고 싶다면 -(dash)를 붙여주면 된다."
   ]
  },
  {
   "cell_type": "markdown",
   "id": "6643ecc0-775c-4f92-ba0a-12cc870f4fa8",
   "metadata": {},
   "source": [
    "- Jupyter Notebook\n",
    "- Numpy\n",
    "- matplotilib\n",
    "- pandas"
   ]
  },
  {
   "cell_type": "code",
   "execution_count": 10,
   "id": "f846b62d-a064-4ecf-940f-03cad608e864",
   "metadata": {},
   "outputs": [],
   "source": [
    "# 만약 순서를 붙여주고 싶다면, '1. ', 2. '... 이렇게 작성하면 된다."
   ]
  },
  {
   "cell_type": "markdown",
   "id": "8c1dba7d-de3b-46d5-9181-790eafcf8c8a",
   "metadata": {},
   "source": [
    "1. Jupyter Notebook\n",
    "2. Numpy\n",
    "3. matplotilib\n",
    "4. pandas"
   ]
  },
  {
   "cell_type": "code",
   "execution_count": null,
   "id": "042b5571-e27f-41cb-8a4f-ea121e883529",
   "metadata": {},
   "outputs": [],
   "source": []
  }
 ],
 "metadata": {
  "kernelspec": {
   "display_name": "Python 3 (ipykernel)",
   "language": "python",
   "name": "python3"
  },
  "language_info": {
   "codemirror_mode": {
    "name": "ipython",
    "version": 3
   },
   "file_extension": ".py",
   "mimetype": "text/x-python",
   "name": "python",
   "nbconvert_exporter": "python",
   "pygments_lexer": "ipython3",
   "version": "3.12.7"
  }
 },
 "nbformat": 4,
 "nbformat_minor": 5
}
