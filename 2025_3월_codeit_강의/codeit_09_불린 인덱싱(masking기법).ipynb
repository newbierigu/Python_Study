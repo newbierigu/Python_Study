{
 "cells": [
  {
   "cell_type": "code",
   "execution_count": 1,
   "id": "2c6a0cae-87db-47e8-94e5-c88b16002945",
   "metadata": {},
   "outputs": [],
   "source": [
    "import numpy as np"
   ]
  },
  {
   "cell_type": "code",
   "execution_count": 3,
   "id": "1190b495-2933-4e9f-849c-9be8165a4afb",
   "metadata": {},
   "outputs": [],
   "source": [
    "gdp_array = np.array([6610, 7637, 8127, 8885, 10385, 12565, 13403, 12398, 8282, 10672]) # 대한민국의 인당 gdp 데이터"
   ]
  },
  {
   "cell_type": "markdown",
   "id": "f0905131-05d8-4f2f-bfa6-49ec22b93913",
   "metadata": {},
   "source": [
    "데이터 사이언스에서는 인덱스 위치를 아는 상태에서 값을 받아올 때도 있지만, 위치를 기반하여 가져오는게 아닌,\\\n",
    "**특정 조건을 충족하는 값**을 받아오고 싶을 때가 있음. numpy에서 이것을 쉽게 할 수 있게 해줌"
   ]
  },
  {
   "cell_type": "markdown",
   "id": "0e61f269-d378-49df-a994-e795ca614326",
   "metadata": {},
   "source": [
    "위 gdp_array에서 **10000이 넘는 값**들만 가져와보자."
   ]
  },
  {
   "cell_type": "code",
   "execution_count": 4,
   "id": "da2d4a7c-f31a-42f6-9caa-42fc3ca0fdca",
   "metadata": {},
   "outputs": [
    {
     "data": {
      "text/plain": [
       "array([False, False, False, False,  True,  True,  True,  True, False,\n",
       "        True])"
      ]
     },
     "execution_count": 4,
     "metadata": {},
     "output_type": "execute_result"
    }
   ],
   "source": [
    "gdp_array > 10000 # gdp_array를 10000이랑 비교하는 코드"
   ]
  },
  {
   "cell_type": "markdown",
   "id": "c4738ae0-8873-4cd9-bff9-8a0bf9f560a2",
   "metadata": {},
   "source": [
    "gdp_array의 **각 값을 10000이랑 비교**해서\\\n",
    "**해당 조건이 만족되면 True**를 **아니면 False로 값이 정해짐.**"
   ]
  },
  {
   "cell_type": "code",
   "execution_count": 7,
   "id": "51915fd9-0448-4971-ab27-328a815f7541",
   "metadata": {},
   "outputs": [
    {
     "data": {
      "text/plain": [
       "array([10385, 12565, 13403, 12398, 10672])"
      ]
     },
     "execution_count": 7,
     "metadata": {},
     "output_type": "execute_result"
    }
   ],
   "source": [
    "mask = gdp_array > 10000 # mask라는 변수에 해당 조건을 저장함\n",
    "gdp_array[mask]          # gdp_array인덱스에 mask를 넣음 (= gdp_array[gdp_array > 10000])"
   ]
  },
  {
   "cell_type": "markdown",
   "id": "ffdf8446-73b6-489b-b65f-253fbaa6a569",
   "metadata": {},
   "source": [
    "위와 같이 **10000이 넘는 값(조건 만족 : True) 만 받아오게 됨.**\\\n",
    "이 방법을 앞으로 자주 사용하게 되는데 이것을 **불린 인덱싱** or **masking** 이라고 함"
   ]
  },
  {
   "cell_type": "markdown",
   "id": "4549a253-144c-4564-a71c-6468650e9c78",
   "metadata": {},
   "source": [
    "위 방법을 활용하여 *10000보다 크거나 8000보다 작은 값*을 가져오는 코드 작성"
   ]
  },
  {
   "cell_type": "code",
   "execution_count": 14,
   "id": "73cb2f11-be63-4f1f-9401-d612e9e4a69c",
   "metadata": {},
   "outputs": [
    {
     "data": {
      "text/plain": [
       "array([False, False, False, False,  True,  True,  True,  True, False,\n",
       "        True])"
      ]
     },
     "execution_count": 14,
     "metadata": {},
     "output_type": "execute_result"
    }
   ],
   "source": [
    "gdp_array > 10000"
   ]
  },
  {
   "cell_type": "code",
   "execution_count": 18,
   "id": "7dff3f52-1ecf-4c6e-99d5-0628b264d87f",
   "metadata": {},
   "outputs": [
    {
     "data": {
      "text/plain": [
       "array([ True,  True, False, False, False, False, False, False, False,\n",
       "       False])"
      ]
     },
     "execution_count": 18,
     "metadata": {},
     "output_type": "execute_result"
    }
   ],
   "source": [
    "gdp_array < 8000"
   ]
  },
  {
   "cell_type": "markdown",
   "id": "4d7fe0f8-9e23-40a6-a517-4e5d275f6972",
   "metadata": {},
   "source": [
    "위 조건을 만족하려면, **각 인덱스마다 하나라도 True 가 있을 때 결과는 True여야 한다.** 파이썬의 'or' 처럼"
   ]
  },
  {
   "cell_type": "code",
   "execution_count": 17,
   "id": "906afd32-0de1-42a7-a3c5-8bc988c01973",
   "metadata": {},
   "outputs": [
    {
     "data": {
      "text/plain": [
       "array([ 6610,  7637, 10385, 12565, 13403, 12398, 10672])"
      ]
     },
     "execution_count": 17,
     "metadata": {},
     "output_type": "execute_result"
    }
   ],
   "source": [
    "mask2 = (gdp_array > 10000) | (gdp_array < 8000)   # gdp_array 내 값이 10000보다 크거나, 8000보다 작다는 조건\n",
    "gdp_array[mask2]"
   ]
  },
  {
   "cell_type": "markdown",
   "id": "34cf5f54-712a-4046-9a15-39b66b43efec",
   "metadata": {},
   "source": [
    "**|** == **or** 과 같은 역할을 한다.\\\n",
    "**|** 사용 시 **() | () 괄호를 꼭 둘러줘야 동작한다.** "
   ]
  },
  {
   "cell_type": "markdown",
   "id": "454395e5-eada-49be-9c76-b7634f0b4585",
   "metadata": {},
   "source": [
    "반대로 8000과 10000 사이의 있는 값들을 받아오고 싶을 땐 \\\n",
    "**파이썬 and 연산자 같은 걸 사용하면 된다.**"
   ]
  },
  {
   "cell_type": "code",
   "execution_count": 19,
   "id": "c53ca43d-f6a2-4595-8103-bad8024ca0c2",
   "metadata": {},
   "outputs": [
    {
     "data": {
      "text/plain": [
       "array([8127, 8885, 8282])"
      ]
     },
     "execution_count": 19,
     "metadata": {},
     "output_type": "execute_result"
    }
   ],
   "source": [
    "gdp_array[(gdp_array <= 10000) & (gdp_array >= 8000)]  "
   ]
  },
  {
   "cell_type": "markdown",
   "id": "928244ef-5a9e-4e03-8f30-5e5d5e25d3c5",
   "metadata": {},
   "source": [
    "위와 같이 &를 사용하여, and 기법을 사용한다.\\\n",
    "이것도 마찬가지고 **() & ()** 로 사용한다."
   ]
  },
  {
   "cell_type": "code",
   "execution_count": null,
   "id": "86625f4a-2609-40ef-b271-49e16e78e4e9",
   "metadata": {},
   "outputs": [],
   "source": []
  }
 ],
 "metadata": {
  "kernelspec": {
   "display_name": "Python 3 (ipykernel)",
   "language": "python",
   "name": "python3"
  },
  "language_info": {
   "codemirror_mode": {
    "name": "ipython",
    "version": 3
   },
   "file_extension": ".py",
   "mimetype": "text/x-python",
   "name": "python",
   "nbconvert_exporter": "python",
   "pygments_lexer": "ipython3",
   "version": "3.12.7"
  }
 },
 "nbformat": 4,
 "nbformat_minor": 5
}
