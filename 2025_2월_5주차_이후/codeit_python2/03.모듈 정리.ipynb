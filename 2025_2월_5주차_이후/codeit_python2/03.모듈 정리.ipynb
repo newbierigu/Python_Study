{
 "cells": [
  {
   "cell_type": "markdown",
   "metadata": {},
   "source": [
    "# 모듈(Module)이란?\n",
    "\n",
    "여러 기능들을 모아둔 파이썬 파일\\\n",
    "area 처럼 함수를 저장해서 사용하는 파일들을 모듈이라고 하며,\\\n",
    "**import** 로 불러와 사용가능하다."
   ]
  },
  {
   "cell_type": "markdown",
   "metadata": {},
   "source": [
    "### 1. import <Module>\n",
    "\n",
    "모듈 전체를 가져온다. 모듈 안에있는 변수/함수 들은 **.** 으로 접근할 수 있다.\n",
    "\n",
    "### 2. from <Module> import <member(s)>\n",
    "\n",
    "모듈에서 필요한 것들만 불러온다. 불러온 변수나 함수를 접근할 때 앞에 **module.을 붙이지 않고 바로 사용 가능**하다.\n",
    "\n",
    "**from area import circle, square**\n",
    "\n",
    "print(**circle(2)**)\\\n",
    "print(**square(4)**)\n",
    "\n",
    "\n",
    "### 3. from <Module> improt *\n",
    "\n",
    "**모듈 내 모든 것을 불러온다**.\\\n",
    "하지만 이 임포트 방식을 사용하면 어떤 함수가 어떤 모듈에서 왔는지 알 수가 없고\\\n",
    "자신도 모르게 쓸데없는 것들을 가져올 수 있다\\\n",
    "**import를 사용할 때는 필요한 함수만 가져오자.**\n",
    "\n",
    "from area import *\n",
    "\n",
    "print(circle(2))\\\n",
    "print(square(4))\n",
    "\n",
    "\n",
    "### 4. as 키워드\n",
    "\n",
    "쉽게 말해서 **모듈 이름을 사용하게 쉽게 바꿔준다.**\n",
    "\n",
    "*모듈 이름을 바꿈*\\\n",
    "improt area **as ar**\n",
    "\n",
    "print(**ar.cirlce(2)**)\\\n",
    "print(**ar.square(4)**)\n",
    "\n",
    "*함수 이름을 바꿈*\\\n",
    "from area **import circle as cr**\n",
    "\n",
    "print(cr(2))"
   ]
  },
  {
   "cell_type": "markdown",
   "metadata": {},
   "source": []
  }
 ],
 "metadata": {
  "language_info": {
   "name": "python"
  }
 },
 "nbformat": 4,
 "nbformat_minor": 2
}
